{
 "cells": [
  {
   "cell_type": "code",
   "execution_count": 1,
   "id": "5c4ca98a-4221-46d2-af6d-c8fc9cd4b607",
   "metadata": {},
   "outputs": [],
   "source": [
    "import turtle"
   ]
  },
  {
   "cell_type": "code",
   "execution_count": 3,
   "id": "6bed7e16-5ccf-487a-8e30-9a8c6038e84f",
   "metadata": {},
   "outputs": [
    {
     "data": {
      "text/plain": [
       "<turtle.Turtle at 0x7474cbcb3b60>"
      ]
     },
     "execution_count": 3,
     "metadata": {},
     "output_type": "execute_result"
    }
   ],
   "source": [
    "bob = turtle.Turtle()\n",
    "bob"
   ]
  },
  {
   "cell_type": "code",
   "execution_count": 3,
   "id": "fa414a9a-7cb9-4f81-a566-47e06dd82841",
   "metadata": {},
   "outputs": [
    {
     "name": "stdout",
     "output_type": "stream",
     "text": [
      "<turtle.Turtle object at 0x7fa7484a9720>\n"
     ]
    }
   ],
   "source": [
    "print(bob)"
   ]
  },
  {
   "cell_type": "code",
   "execution_count": 6,
   "id": "4a1d6d23-3138-4b77-a940-b23fea3e3925",
   "metadata": {},
   "outputs": [],
   "source": [
    "# Criando um quadrado com 100 pixels\n",
    "bob.fd(100) # Forward\n",
    "bob.lt(120) # left turn\n",
    "bob.fd(100) # Forward\n",
    "bob.lt(120) # left turn\n",
    "bob.fd(100) # Forward\n",
    "bob.lt(120) # left turn\n",
    "bob.fd(100) # Forward\n",
    "bob.lt(90) # left turn"
   ]
  },
  {
   "cell_type": "code",
   "execution_count": 7,
   "id": "66d21ff7-bedf-42f3-b344-cf531a47733e",
   "metadata": {},
   "outputs": [],
   "source": [
    "# Limpando a tela\n",
    "bob.clear()"
   ]
  },
  {
   "cell_type": "markdown",
   "id": "233750cf-5c8f-4e4e-94bb-b9697d43580c",
   "metadata": {},
   "source": [
    "Testando várias funções de forma aleatória."
   ]
  },
  {
   "cell_type": "code",
   "execution_count": 6,
   "id": "0e340acb-9d68-4cf0-8834-61458dbb66da",
   "metadata": {},
   "outputs": [],
   "source": [
    "bob.circle(100)"
   ]
  },
  {
   "cell_type": "code",
   "execution_count": 7,
   "id": "73b8facd-1e92-48ac-bd76-f0e38f17a308",
   "metadata": {},
   "outputs": [],
   "source": [
    "bob.color('red','green')"
   ]
  },
  {
   "cell_type": "code",
   "execution_count": 8,
   "id": "b957d01e-e7f5-4c9f-90f2-ae1d9cea26ec",
   "metadata": {},
   "outputs": [],
   "source": [
    "bob.begin_fill()"
   ]
  },
  {
   "cell_type": "code",
   "execution_count": 9,
   "id": "014dc099-0aa8-436e-9895-9107376a2184",
   "metadata": {},
   "outputs": [],
   "source": [
    "bob.circle(100)"
   ]
  },
  {
   "cell_type": "code",
   "execution_count": 10,
   "id": "2a13be59-5221-4b79-8824-4276ede0167f",
   "metadata": {},
   "outputs": [],
   "source": [
    "bob.fillcolor('blue')"
   ]
  },
  {
   "cell_type": "code",
   "execution_count": 11,
   "id": "f000de9a-31ee-4e25-89c0-9970b8bfba2d",
   "metadata": {},
   "outputs": [],
   "source": [
    "bob.end_fill()"
   ]
  },
  {
   "cell_type": "code",
   "execution_count": 12,
   "id": "bf0e7852-f80e-4ac0-9fbb-5d3d16f442a0",
   "metadata": {},
   "outputs": [
    {
     "data": {
      "text/plain": [
       "(-0.00,-0.00)"
      ]
     },
     "execution_count": 12,
     "metadata": {},
     "output_type": "execute_result"
    }
   ],
   "source": [
    "bob.position()"
   ]
  },
  {
   "cell_type": "code",
   "execution_count": 13,
   "id": "0c05a8eb-828b-40ef-9079-dd94bfd6782f",
   "metadata": {},
   "outputs": [],
   "source": [
    "bob.goto(x=-100,y=-100)"
   ]
  },
  {
   "cell_type": "code",
   "execution_count": 14,
   "id": "f234ad65-41b9-4ad6-b0a8-62cf0beb5ca3",
   "metadata": {},
   "outputs": [],
   "source": [
    "bob.penup()"
   ]
  },
  {
   "cell_type": "code",
   "execution_count": 15,
   "id": "8f8ecb8a-a1f5-42fb-b5b0-3674a8b7bfd7",
   "metadata": {},
   "outputs": [],
   "source": [
    "bob.goto(x=100,y=-100)"
   ]
  },
  {
   "cell_type": "code",
   "execution_count": 16,
   "id": "c1ea0931-7fb0-4cde-a468-dadf4214d8d5",
   "metadata": {},
   "outputs": [],
   "source": [
    "bob.pendown()"
   ]
  },
  {
   "cell_type": "code",
   "execution_count": 17,
   "id": "dceeb012-186a-4610-803d-c32293b5ff55",
   "metadata": {},
   "outputs": [],
   "source": [
    "bob.color('black')"
   ]
  },
  {
   "cell_type": "code",
   "execution_count": 18,
   "id": "ced31638-12a4-48b7-bf54-1ffa0b4335b6",
   "metadata": {},
   "outputs": [],
   "source": [
    "bob.goto(x=100,y=100)"
   ]
  },
  {
   "cell_type": "code",
   "execution_count": 19,
   "id": "0dd5468a-acc5-4293-a067-046437d2fc4f",
   "metadata": {},
   "outputs": [],
   "source": [
    "bob.clear()"
   ]
  },
  {
   "cell_type": "code",
   "execution_count": 20,
   "id": "0ede3e42-830d-46a7-ab25-c4c23a00224c",
   "metadata": {},
   "outputs": [],
   "source": [
    "bob.circle(100,extent=180)"
   ]
  },
  {
   "cell_type": "markdown",
   "id": "147fd48d-0e11-401f-b1be-dc9fa44456ce",
   "metadata": {},
   "source": [
    "O comando `del` libera um objeto da memória. Irei liberar o objeto turtle nomeado como `bob`."
   ]
  },
  {
   "cell_type": "code",
   "execution_count": 21,
   "id": "95c270ad-2121-4cbe-af08-213176f80cbc",
   "metadata": {},
   "outputs": [],
   "source": [
    "bob.reset()"
   ]
  },
  {
   "cell_type": "code",
   "execution_count": 22,
   "id": "0cbe203a-16e9-49c4-8c2b-b7bc783f205f",
   "metadata": {},
   "outputs": [],
   "source": [
    "del bob"
   ]
  },
  {
   "cell_type": "markdown",
   "id": "78d3010f-fad7-4276-9980-e315bb77f91c",
   "metadata": {},
   "source": [
    "Agora vamos fazer um quadrado:"
   ]
  },
  {
   "cell_type": "code",
   "execution_count": 2,
   "id": "300e1d4b-2515-4a9a-9bf8-6ef04aae6a10",
   "metadata": {},
   "outputs": [],
   "source": [
    "ninja = turtle.Turtle()"
   ]
  },
  {
   "cell_type": "code",
   "execution_count": 3,
   "id": "8816c2c7-a63b-486c-a0fc-6c207ca8bc65",
   "metadata": {},
   "outputs": [],
   "source": [
    "ninja.forward(50)"
   ]
  },
  {
   "cell_type": "code",
   "execution_count": 4,
   "id": "71d3f9fc-5d8a-4e4b-bad6-cd6af962c5b0",
   "metadata": {},
   "outputs": [],
   "source": [
    "ninja.reset()"
   ]
  },
  {
   "cell_type": "markdown",
   "id": "51529013-bc15-462d-a0c3-b7369843e65e",
   "metadata": {},
   "source": [
    "Função que faz quadrado."
   ]
  },
  {
   "cell_type": "code",
   "execution_count": 5,
   "id": "e8c9acec-f559-43db-8c58-87a66bd2ba26",
   "metadata": {},
   "outputs": [],
   "source": [
    "# Note que a biblioteca turtle já vem com uma interface turtle padrão. \n",
    "# É como se ao iniciá-la ela já inicia um objeto com o próprio nome da biblioteca.\n",
    "# Isso é algo que só pude descobrir por que o estudante Leonardo fuçou e acabou encontrando.\n",
    "\n",
    "def quadrado():\n",
    "    turtle.reset()\n",
    "    turtle.forward(50)\n",
    "    turtle.left(90)\n",
    "    turtle.forward(50)\n",
    "    turtle.left(90)\n",
    "    turtle.forward(50)\n",
    "    turtle.left(90)    \n",
    "    turtle.forward(50)\n",
    "    turtle.left(90)\n",
    "    \n",
    "quadrado()"
   ]
  },
  {
   "cell_type": "markdown",
   "id": "1338066b-3305-481b-a5dc-d0cbed665527",
   "metadata": {},
   "source": [
    "Ao invés de chamarmos o objeto turtle padrão da biblioteca, a nova versão de quadrado irá solicitar um objeto turtle arbitrário, definido **previamente**.\n",
    "\n",
    "Nota: aparentemente ao utilizarmos o turtle padrão da biblioteca não temos uma estratégia para apagar este turtle e você fica com o pincel  que nunca pode ser excluído da janela de desenho. Ou eu não compreendi algo da biblioteca ou este é um erro de implementação. Se um objeto pode ser chamado deve haver uma estratégia para excluí-lo."
   ]
  },
  {
   "cell_type": "code",
   "execution_count": 6,
   "id": "8e094215-c314-4874-af94-1d64f2d6dee4",
   "metadata": {},
   "outputs": [],
   "source": [
    "def quadrado_1(t):    \n",
    "    t.forward(50)\n",
    "    t.left(90)\n",
    "    t.forward(50)\n",
    "    t.left(90)\n",
    "    t.forward(50)\n",
    "    t.left(90)    \n",
    "    t.forward(50)\n",
    "    t.left(90)"
   ]
  },
  {
   "cell_type": "code",
   "execution_count": 7,
   "id": "39752dbf-74b3-4ce7-a200-e4a24f1d01e1",
   "metadata": {},
   "outputs": [],
   "source": [
    "quadrado_1(turtle)"
   ]
  },
  {
   "cell_type": "markdown",
   "id": "328ab328-971a-4974-9585-47231cfdf30f",
   "metadata": {},
   "source": [
    "Vamos começar um novo objeto turtle, para podermos ter mais de uma caneta no espaço de trabalho."
   ]
  },
  {
   "cell_type": "code",
   "execution_count": 8,
   "id": "eefea681-5074-4cbd-8a48-e5cd42872e46",
   "metadata": {},
   "outputs": [],
   "source": [
    "michaelangelo = turtle.Turtle()\n",
    "michaelangelo.color('red')\n",
    "michaelangelo.left(45)"
   ]
  },
  {
   "cell_type": "code",
   "execution_count": 9,
   "id": "5f0f324a-abab-4d84-a084-a54971379d37",
   "metadata": {},
   "outputs": [
    {
     "name": "stdout",
     "output_type": "stream",
     "text": [
      "<turtle.Turtle object at 0x7f24a83e0e50>\n"
     ]
    }
   ],
   "source": [
    "print(michaelangelo)"
   ]
  },
  {
   "cell_type": "code",
   "execution_count": 10,
   "id": "9e557d68-42fd-400d-85e8-47620c90df32",
   "metadata": {},
   "outputs": [],
   "source": [
    "quadrado_1(michaelangelo)"
   ]
  },
  {
   "cell_type": "code",
   "execution_count": 11,
   "id": "12d7bae5-fc53-4f03-ab38-60397d6309ba",
   "metadata": {},
   "outputs": [],
   "source": [
    "def quadrado_2(t,tamanho,angulo_inicial):\n",
    "    print(tamanho, angulo_inicial)\n",
    "    print(t)\n",
    "    t.left(angulo_inicial)\n",
    "    t.forward(tamanho)\n",
    "    t.left(90)\n",
    "    t.forward(tamanho)\n",
    "    t.left(90)\n",
    "    t.forward(tamanho)\n",
    "    t.left(90)    \n",
    "    t.forward(tamanho)\n",
    "    t.left(90)"
   ]
  },
  {
   "cell_type": "code",
   "execution_count": 12,
   "id": "0352d365-94f6-4797-8c4d-90bada38fe16",
   "metadata": {},
   "outputs": [],
   "source": [
    "turtle.reset()\n",
    "michaelangelo.reset()"
   ]
  },
  {
   "cell_type": "code",
   "execution_count": 13,
   "id": "34aeacee-06b9-42b6-b9e0-765547a31f2e",
   "metadata": {},
   "outputs": [
    {
     "name": "stdout",
     "output_type": "stream",
     "text": [
      "70 45\n",
      "<turtle.Turtle object at 0x7f24a83e0e50>\n"
     ]
    }
   ],
   "source": [
    "quadrado_2(michaelangelo, 70, 45)"
   ]
  },
  {
   "cell_type": "markdown",
   "id": "5b546a80-f475-48c7-ae14-3f151ace2e84",
   "metadata": {},
   "source": [
    "Abaixo vamos fazer uma chamada à variável tamanho, definida no escopo da função `quadrado_2()`, apenas para ver o que acontece. "
   ]
  },
  {
   "cell_type": "code",
   "execution_count": 15,
   "id": "4a8af1bf-6ff9-4f3b-a088-c3e071c68dd1",
   "metadata": {},
   "outputs": [
    {
     "ename": "NameError",
     "evalue": "name 'tamanho' is not defined",
     "output_type": "error",
     "traceback": [
      "\u001b[0;31m---------------------------------------------------------------------------\u001b[0m",
      "\u001b[0;31mNameError\u001b[0m                                 Traceback (most recent call last)",
      "Input \u001b[0;32mIn [15]\u001b[0m, in \u001b[0;36m<cell line: 1>\u001b[0;34m()\u001b[0m\n\u001b[0;32m----> 1\u001b[0m \u001b[43mtamanho\u001b[49m\n",
      "\u001b[0;31mNameError\u001b[0m: name 'tamanho' is not defined"
     ]
    }
   ],
   "source": [
    "tamanho"
   ]
  },
  {
   "cell_type": "markdown",
   "id": "45766725-ef3f-427c-ada5-97f26ba2a720",
   "metadata": {},
   "source": [
    "Note que surgiu um `NameError`. Isso ocorre pois esta variável não existe no escopo do código principal que está rodando (este notebook)."
   ]
  },
  {
   "cell_type": "markdown",
   "id": "12b6eab3-e2b3-432e-97e3-74987838b466",
   "metadata": {},
   "source": [
    "Vamos agora introduzir o conceito de argumentos como parâmetros pré-definidos. Veja abaixo."
   ]
  },
  {
   "cell_type": "code",
   "execution_count": 16,
   "id": "8c033939-1f82-4923-8355-9d47845f254b",
   "metadata": {},
   "outputs": [],
   "source": [
    "def quadrado_3(t,tamanho=50,angulo_inicial=0):\n",
    "    # print(tamanho, angulo_inicial)\n",
    "    # print(t)\n",
    "    t.left(angulo_inicial)\n",
    "    t.forward(tamanho)\n",
    "    t.left(90)\n",
    "    t.forward(tamanho)\n",
    "    t.left(90)\n",
    "    t.forward(tamanho)\n",
    "    t.left(90)    \n",
    "    t.forward(tamanho)\n",
    "    t.left(90)"
   ]
  },
  {
   "cell_type": "code",
   "execution_count": 17,
   "id": "68b0d9ff-e8b2-4db6-91f0-21e40f80b043",
   "metadata": {},
   "outputs": [],
   "source": [
    "quadrado_3(michaelangelo)"
   ]
  },
  {
   "cell_type": "code",
   "execution_count": 20,
   "id": "4e49daf3-9ee3-46a7-bf49-5fe9d6701335",
   "metadata": {},
   "outputs": [],
   "source": [
    "turtle.clear()    # Não ficou muito claro para mim a diferença entre turtle.clear() e turtle.reset()\n",
    "michaelangelo.reset()"
   ]
  },
  {
   "cell_type": "code",
   "execution_count": 21,
   "id": "07a3e1f2-0197-44a7-9f62-c83f4656ead5",
   "metadata": {},
   "outputs": [],
   "source": [
    "quadrado_3(t=michaelangelo, angulo_inicial=127, tamanho=150)"
   ]
  },
  {
   "cell_type": "raw",
   "id": "6aaea777-72f8-4a02-a133-3591f3276242",
   "metadata": {},
   "source": [
    "Neste ponto iremos aprimorar a função `quadrado` com o uso do for. Veja o arquivo ensinando a se utilizar o for para retornar a este ponto."
   ]
  },
  {
   "cell_type": "code",
   "execution_count": 23,
   "id": "a5b8b3b3-2e8c-4e6d-84bd-2f1a0839d1be",
   "metadata": {},
   "outputs": [],
   "source": [
    "def quadrado_4(t,tamanho=50,angulo_inicial=0):\n",
    "    t.left(angulo_inicial)\n",
    "    \n",
    "    for i in range(4):\n",
    "        t.forward(tamanho)\n",
    "        t.left(90)\n",
    "    "
   ]
  },
  {
   "cell_type": "code",
   "execution_count": 24,
   "id": "8e869410-ee64-418a-8ddc-90f1a12214bb",
   "metadata": {},
   "outputs": [],
   "source": [
    "quadrado_4(t=ninja, tamanho=70, angulo_inicial=38.5)"
   ]
  },
  {
   "cell_type": "code",
   "execution_count": null,
   "id": "ef7f03c9-4892-445b-a5f3-222b03323de0",
   "metadata": {},
   "outputs": [],
   "source": []
  }
 ],
 "metadata": {
  "kernelspec": {
   "display_name": "DataScience",
   "language": "python",
   "name": "datascience"
  },
  "language_info": {
   "codemirror_mode": {
    "name": "ipython",
    "version": 3
   },
   "file_extension": ".py",
   "mimetype": "text/x-python",
   "name": "python",
   "nbconvert_exporter": "python",
   "pygments_lexer": "ipython3",
   "version": "3.12.3"
  }
 },
 "nbformat": 4,
 "nbformat_minor": 5
}

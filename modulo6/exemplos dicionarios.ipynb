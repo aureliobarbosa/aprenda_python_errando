{
 "cells": [
  {
   "cell_type": "markdown",
   "id": "7a318da8-9989-4c9a-b305-64e2d3e16e14",
   "metadata": {},
   "source": [
    "Criando um dicionario vazio:"
   ]
  },
  {
   "cell_type": "code",
   "execution_count": 1,
   "id": "55fb693e-7192-4596-a0fd-c6b316dc551c",
   "metadata": {},
   "outputs": [],
   "source": [
    "cadastro = dict()"
   ]
  },
  {
   "cell_type": "code",
   "execution_count": 1,
   "id": "fd1b94d1-1346-409c-a249-d36f4f3a8e0c",
   "metadata": {},
   "outputs": [],
   "source": [
    "cadastro = {}"
   ]
  },
  {
   "cell_type": "markdown",
   "id": "4c26cc1b-1ff6-4a66-9dd8-54bcaf42f3b5",
   "metadata": {},
   "source": [
    "Criando um dicionário com elementos\n"
   ]
  },
  {
   "cell_type": "code",
   "execution_count": 2,
   "id": "08b9e85b-4902-4a8e-a730-6dcd6fa6928f",
   "metadata": {},
   "outputs": [],
   "source": [
    "cadastros = {'nomes': ['leonardo', 'marcio'], \n",
    "             'idades': [37, 58] }"
   ]
  },
  {
   "cell_type": "code",
   "execution_count": 3,
   "id": "97aafeae-b696-4acb-b71d-34452be62495",
   "metadata": {},
   "outputs": [],
   "source": [
    "cadastro = {'nome':'Leonardo', \n",
    "            'idade': 42, \n",
    "            'profissao': 'teclab'}"
   ]
  },
  {
   "cell_type": "code",
   "execution_count": 4,
   "id": "71a40623-fe76-4d14-8690-23871386052f",
   "metadata": {},
   "outputs": [],
   "source": [
    "dicionario_en_pt = { 'value': 'valor',\n",
    "                    'if':'se',\n",
    "                    'key':'chave',                    \n",
    "                   }"
   ]
  },
  {
   "cell_type": "code",
   "execution_count": 6,
   "id": "da54f984-add1-477a-bb43-fe2c7f3ba8fd",
   "metadata": {},
   "outputs": [],
   "source": [
    "cadastros['Estados Civis'] = ['Casado', 'Solto na vida']"
   ]
  },
  {
   "cell_type": "code",
   "execution_count": 7,
   "id": "45b3bd07-283e-410d-8fdf-fca360aaeaa6",
   "metadata": {},
   "outputs": [],
   "source": [
    "del cadastros['Estados Civis']"
   ]
  },
  {
   "cell_type": "code",
   "execution_count": 8,
   "id": "5b0d6b43-4422-47be-9e7d-adc5a5b1484e",
   "metadata": {},
   "outputs": [
    {
     "data": {
      "text/plain": [
       "{'nomes': ['leonardo', 'marcio'], 'idades': [37, 58]}"
      ]
     },
     "execution_count": 8,
     "metadata": {},
     "output_type": "execute_result"
    }
   ],
   "source": [
    "cadastros"
   ]
  },
  {
   "cell_type": "markdown",
   "id": "58f0a7e1-91a9-4382-b94b-a851410fc75b",
   "metadata": {},
   "source": [
    "Pesquisado as chaves de um dicionário"
   ]
  },
  {
   "cell_type": "code",
   "execution_count": 11,
   "id": "a3e15573-7832-4e09-986a-c52b25110e1a",
   "metadata": {},
   "outputs": [
    {
     "data": {
      "text/plain": [
       "{'value': 'valor', 'if': 'se', 'key': 'chave'}"
      ]
     },
     "execution_count": 11,
     "metadata": {},
     "output_type": "execute_result"
    }
   ],
   "source": [
    "dicionario_en_pt"
   ]
  },
  {
   "cell_type": "code",
   "execution_count": 13,
   "id": "d534ad16-a17c-4a8c-81fe-f58403fca8fe",
   "metadata": {},
   "outputs": [
    {
     "data": {
      "text/plain": [
       "dict_keys(['value', 'if', 'key'])"
      ]
     },
     "execution_count": 13,
     "metadata": {},
     "output_type": "execute_result"
    }
   ],
   "source": [
    "dicionario_en_pt.keys()"
   ]
  },
  {
   "cell_type": "code",
   "execution_count": 16,
   "id": "c8cb3eb7-d8f8-490d-80b2-2c558957fcdf",
   "metadata": {},
   "outputs": [],
   "source": [
    "palavras_en = list(dicionario_en_pt.keys())"
   ]
  },
  {
   "cell_type": "code",
   "execution_count": 17,
   "id": "0dc93149-d2f0-4220-9f5e-e938c7f43644",
   "metadata": {},
   "outputs": [
    {
     "data": {
      "text/plain": [
       "['value', 'if', 'key']"
      ]
     },
     "execution_count": 17,
     "metadata": {},
     "output_type": "execute_result"
    }
   ],
   "source": [
    "palavras_en"
   ]
  },
  {
   "cell_type": "markdown",
   "id": "40dcb294-a15f-45cb-bab7-55fc1a523282",
   "metadata": {},
   "source": [
    "Obtendo os valores de um dicionário"
   ]
  },
  {
   "cell_type": "code",
   "execution_count": 18,
   "id": "610da9ac-5109-4ad3-bdae-7a76464f0b8b",
   "metadata": {},
   "outputs": [
    {
     "data": {
      "text/plain": [
       "dict_values(['valor', 'se', 'chave'])"
      ]
     },
     "execution_count": 18,
     "metadata": {},
     "output_type": "execute_result"
    }
   ],
   "source": [
    "dicionario_en_pt.values()"
   ]
  },
  {
   "cell_type": "code",
   "execution_count": 19,
   "id": "a20b8edf-080c-4c88-bc73-ce3baee9dd5c",
   "metadata": {},
   "outputs": [],
   "source": [
    "palavras_pt = list(dicionario_en_pt.values())"
   ]
  },
  {
   "cell_type": "code",
   "execution_count": 20,
   "id": "beb1e6cc-d317-4f17-856d-8e42fe363fd4",
   "metadata": {},
   "outputs": [
    {
     "data": {
      "text/plain": [
       "['valor', 'se', 'chave']"
      ]
     },
     "execution_count": 20,
     "metadata": {},
     "output_type": "execute_result"
    }
   ],
   "source": [
    "palavras_pt"
   ]
  },
  {
   "cell_type": "code",
   "execution_count": 27,
   "id": "9b04a16e-5dae-4c2f-98f4-378b5a6ed101",
   "metadata": {},
   "outputs": [
    {
     "data": {
      "text/plain": [
       "(('value', 'valor'), ('if', 'se'), ('key', 'chave'))"
      ]
     },
     "execution_count": 27,
     "metadata": {},
     "output_type": "execute_result"
    }
   ],
   "source": [
    "tuple(dicionario_en_pt.items())"
   ]
  },
  {
   "cell_type": "code",
   "execution_count": null,
   "id": "89838807-2dcd-4f9b-b272-1b035b734133",
   "metadata": {},
   "outputs": [],
   "source": [
    "\n"
   ]
  },
  {
   "cell_type": "markdown",
   "id": "1375de1d-e5e1-466e-ae5c-76ec4ce6ba79",
   "metadata": {},
   "source": [
    "Existe outra estratégia para criar e acessar os dados de um dicionário, como se trabalhassemos com variáveis em um objeto."
   ]
  },
  {
   "cell_type": "code",
   "execution_count": 29,
   "id": "a9d227ad-5a63-49c6-a1f0-81c7fc90f81d",
   "metadata": {},
   "outputs": [
    {
     "data": {
      "text/plain": [
       "{'value': 'valor', 'if': 'se', 'key': 'chave'}"
      ]
     },
     "execution_count": 29,
     "metadata": {},
     "output_type": "execute_result"
    }
   ],
   "source": [
    "dicionario_en_pt"
   ]
  },
  {
   "cell_type": "code",
   "execution_count": 30,
   "id": "f162d601-fb22-4b5c-9263-ca92adc8f06d",
   "metadata": {},
   "outputs": [
    {
     "ename": "SyntaxError",
     "evalue": "invalid syntax (1068234254.py, line 1)",
     "output_type": "error",
     "traceback": [
      "\u001b[0;36m  Cell \u001b[0;32mIn [30], line 1\u001b[0;36m\u001b[0m\n\u001b[0;31m    dicionario_en_pt.if\u001b[0m\n\u001b[0m                     ^\u001b[0m\n\u001b[0;31mSyntaxError\u001b[0m\u001b[0;31m:\u001b[0m invalid syntax\n"
     ]
    }
   ],
   "source": [
    "dicionario_en_pt"
   ]
  },
  {
   "cell_type": "code",
   "execution_count": null,
   "id": "87f30bc1-0cb4-4c28-bd44-9c68c511fdb6",
   "metadata": {},
   "outputs": [],
   "source": []
  },
  {
   "cell_type": "code",
   "execution_count": 31,
   "id": "328296df-fd9e-4de5-944e-34ee6cb59359",
   "metadata": {},
   "outputs": [
    {
     "data": {
      "text/plain": [
       "{'nome': 'Leonardo', 'idade': 42, 'profissao': 'teclab'}"
      ]
     },
     "execution_count": 31,
     "metadata": {},
     "output_type": "execute_result"
    }
   ],
   "source": [
    "cadastro"
   ]
  },
  {
   "cell_type": "code",
   "execution_count": null,
   "id": "57499908-71ae-4aaf-aae2-86eb8f229b92",
   "metadata": {},
   "outputs": [],
   "source": []
  },
  {
   "cell_type": "code",
   "execution_count": null,
   "id": "7f78cbc4-42dd-4676-8d3c-3a7cc07e0ad6",
   "metadata": {},
   "outputs": [],
   "source": []
  },
  {
   "cell_type": "code",
   "execution_count": null,
   "id": "d213f21c-bb7e-4976-b667-4d0d05b3c44d",
   "metadata": {},
   "outputs": [],
   "source": []
  },
  {
   "cell_type": "code",
   "execution_count": null,
   "id": "67fa301d-83b2-41d2-b33a-06ea02ad2778",
   "metadata": {},
   "outputs": [],
   "source": []
  },
  {
   "cell_type": "code",
   "execution_count": 33,
   "id": "9aa197ee-8e4a-4f17-931a-de4ac81e1a53",
   "metadata": {},
   "outputs": [],
   "source": [
    "cadastro = dict(nome='Leo', idade=45)"
   ]
  },
  {
   "cell_type": "code",
   "execution_count": 46,
   "id": "8a39735a-39dd-4299-aa57-96bf5e1c16cc",
   "metadata": {},
   "outputs": [
    {
     "data": {
      "text/plain": [
       "-3509654738696560208"
      ]
     },
     "execution_count": 46,
     "metadata": {},
     "output_type": "execute_result"
    }
   ],
   "source": [
    "hash('idade')"
   ]
  },
  {
   "cell_type": "code",
   "execution_count": 47,
   "id": "2490c8f6-03a2-4b59-ab22-a9030a21be03",
   "metadata": {},
   "outputs": [
    {
     "data": {
      "text/plain": [
       "803608102156697956"
      ]
     },
     "execution_count": 47,
     "metadata": {},
     "output_type": "execute_result"
    }
   ],
   "source": [
    "hash('profissão')"
   ]
  },
  {
   "cell_type": "code",
   "execution_count": 49,
   "id": "a07edf8b-8e85-402d-8af7-a680cdb5313c",
   "metadata": {},
   "outputs": [
    {
     "data": {
      "text/plain": [
       "115538185147588077"
      ]
     },
     "execution_count": 49,
     "metadata": {},
     "output_type": "execute_result"
    }
   ],
   "source": [
    "hash('Profissão')"
   ]
  },
  {
   "cell_type": "code",
   "execution_count": 50,
   "id": "a2143df8-6916-46b0-bd14-d55fafa46d0f",
   "metadata": {},
   "outputs": [
    {
     "data": {
      "text/plain": [
       "322818021289917443"
      ]
     },
     "execution_count": 50,
     "metadata": {},
     "output_type": "execute_result"
    }
   ],
   "source": [
    "hash(3.14)"
   ]
  },
  {
   "cell_type": "code",
   "execution_count": 51,
   "id": "3d7d2d94-b804-4d44-8a9c-cea20c0e9be5",
   "metadata": {},
   "outputs": [
    {
     "data": {
      "text/plain": [
       "0"
      ]
     },
     "execution_count": 51,
     "metadata": {},
     "output_type": "execute_result"
    }
   ],
   "source": [
    "hash(0)"
   ]
  },
  {
   "cell_type": "code",
   "execution_count": 52,
   "id": "201f4cb3-2344-402e-aec0-57bfcb0103e6",
   "metadata": {},
   "outputs": [
    {
     "data": {
      "text/plain": [
       "9041618416437628752"
      ]
     },
     "execution_count": 52,
     "metadata": {},
     "output_type": "execute_result"
    }
   ],
   "source": [
    "hash('a')"
   ]
  },
  {
   "cell_type": "code",
   "execution_count": null,
   "id": "9ce613ee-ac4a-41ed-be14-eb9b3113954b",
   "metadata": {},
   "outputs": [],
   "source": []
  }
 ],
 "metadata": {
  "kernelspec": {
   "display_name": "Python 3 (ipykernel)",
   "language": "python",
   "name": "python3"
  },
  "language_info": {
   "codemirror_mode": {
    "name": "ipython",
    "version": 3
   },
   "file_extension": ".py",
   "mimetype": "text/x-python",
   "name": "python",
   "nbconvert_exporter": "python",
   "pygments_lexer": "ipython3",
   "version": "3.10.6"
  }
 },
 "nbformat": 4,
 "nbformat_minor": 5
}
